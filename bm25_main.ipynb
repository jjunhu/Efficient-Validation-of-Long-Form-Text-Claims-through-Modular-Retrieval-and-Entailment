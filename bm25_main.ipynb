{
 "cells": [
  {
   "cell_type": "code",
   "execution_count": 1,
   "metadata": {},
   "outputs": [],
   "source": [
    "%load_ext autoreload\n",
    "%autoreload 2"
   ]
  },
  {
   "cell_type": "code",
   "execution_count": 1,
   "metadata": {},
   "outputs": [
    {
     "name": "stdout",
     "output_type": "stream",
     "text": [
      "(4000, 5)\n"
     ]
    },
    {
     "data": {
      "text/html": [
       "<div>\n",
       "<style scoped>\n",
       "    .dataframe tbody tr th:only-of-type {\n",
       "        vertical-align: middle;\n",
       "    }\n",
       "\n",
       "    .dataframe tbody tr th {\n",
       "        vertical-align: top;\n",
       "    }\n",
       "\n",
       "    .dataframe thead th {\n",
       "        text-align: right;\n",
       "    }\n",
       "</style>\n",
       "<table border=\"1\" class=\"dataframe\">\n",
       "  <thead>\n",
       "    <tr style=\"text-align: right;\">\n",
       "      <th></th>\n",
       "      <th>book_text</th>\n",
       "      <th>depth_3_summary</th>\n",
       "      <th>model_size</th>\n",
       "      <th>book_num</th>\n",
       "      <th>document_index</th>\n",
       "    </tr>\n",
       "  </thead>\n",
       "  <tbody>\n",
       "    <tr>\n",
       "      <th>0</th>\n",
       "      <td>THE BIRTH OF A WOMAN-CHILD\\n\\n\"Whose cradle's ...</td>\n",
       "      <td>Uncle Pros, uncle of the sick woman and mainst...</td>\n",
       "      <td>6b</td>\n",
       "      <td>0</td>\n",
       "      <td>0</td>\n",
       "    </tr>\n",
       "    <tr>\n",
       "      <th>1</th>\n",
       "      <td>selfish--said she'd like to know how I was goi...</td>\n",
       "      <td>The nurse says the baby is a likely little gir...</td>\n",
       "      <td>6b</td>\n",
       "      <td>0</td>\n",
       "      <td>1</td>\n",
       "    </tr>\n",
       "    <tr>\n",
       "      <th>2</th>\n",
       "      <td>rich, broken light from the cavernous fireplac...</td>\n",
       "      <td>Uncle Pros takes the cradle to the back door t...</td>\n",
       "      <td>6b</td>\n",
       "      <td>0</td>\n",
       "      <td>2</td>\n",
       "    </tr>\n",
       "    <tr>\n",
       "      <th>3</th>\n",
       "      <td>\\n\"Well, you go ask Pap to look in the green c...</td>\n",
       "      <td>Mrs. Bence tells Laurelly to ask Pap to look i...</td>\n",
       "      <td>6b</td>\n",
       "      <td>0</td>\n",
       "      <td>3</td>\n",
       "    </tr>\n",
       "    <tr>\n",
       "      <th>4</th>\n",
       "      <td>she wants--ain't ye, Pretty?\"\\n\\nAnd, having m...</td>\n",
       "      <td>Uncle Pros lifts the baby into the cradle and ...</td>\n",
       "      <td>6b</td>\n",
       "      <td>0</td>\n",
       "      <td>4</td>\n",
       "    </tr>\n",
       "  </tbody>\n",
       "</table>\n",
       "</div>"
      ],
      "text/plain": [
       "                                           book_text  \\\n",
       "0  THE BIRTH OF A WOMAN-CHILD\\n\\n\"Whose cradle's ...   \n",
       "1  selfish--said she'd like to know how I was goi...   \n",
       "2  rich, broken light from the cavernous fireplac...   \n",
       "3  \\n\"Well, you go ask Pap to look in the green c...   \n",
       "4  she wants--ain't ye, Pretty?\"\\n\\nAnd, having m...   \n",
       "\n",
       "                                     depth_3_summary model_size  book_num  \\\n",
       "0  Uncle Pros, uncle of the sick woman and mainst...         6b         0   \n",
       "1  The nurse says the baby is a likely little gir...         6b         0   \n",
       "2  Uncle Pros takes the cradle to the back door t...         6b         0   \n",
       "3  Mrs. Bence tells Laurelly to ask Pap to look i...         6b         0   \n",
       "4  Uncle Pros lifts the baby into the cradle and ...         6b         0   \n",
       "\n",
       "   document_index  \n",
       "0               0  \n",
       "1               1  \n",
       "2               2  \n",
       "3               3  \n",
       "4               4  "
      ]
     },
     "execution_count": 1,
     "metadata": {},
     "output_type": "execute_result"
    }
   ],
   "source": [
    "import pandas as pd\n",
    "import numpy as np\n",
    "from rank_bm25 import BM25Okapi\n",
    "from model_helper import get_evaluation_set_175, get_evaluation_set_6, QUERY, DOCUMENT, two_gram_overlap, get_evaluation_set\n",
    "import nltk\n",
    "import heapq\n",
    "import tqdm\n",
    "import matplotlib.pyplot as plt\n",
    "\n",
    "df = get_evaluation_set()\n",
    "total_rows = df.shape[0]\n",
    "print(df.shape)\n",
    "df.head()"
   ]
  },
  {
   "cell_type": "code",
   "execution_count": 3,
   "metadata": {},
   "outputs": [
    {
     "name": "stdout",
     "output_type": "stream",
     "text": [
      "Starting recall@k calculation for k=1 to 10...\n"
     ]
    },
    {
     "name": "stderr",
     "output_type": "stream",
     "text": [
      "Recall@k: 100%|██████████| 4000/4000 [05:07<00:00, 12.99row/s]"
     ]
    },
    {
     "name": "stdout",
     "output_type": "stream",
     "text": [
      "Recall at k = 1: 0.9952\n",
      "Recall at k = 2: 0.9958\n",
      "Recall at k = 3: 0.9958\n",
      "Recall at k = 4: 0.9960\n",
      "Recall at k = 5: 0.9960\n",
      "Recall at k = 6: 0.9960\n",
      "Recall at k = 7: 0.9960\n",
      "Recall at k = 8: 0.9960\n",
      "Recall at k = 9: 0.9960\n",
      "Recall at k = 10: 0.9962\n",
      "Calculation completed.\n"
     ]
    },
    {
     "name": "stderr",
     "output_type": "stream",
     "text": [
      "\n"
     ]
    }
   ],
   "source": [
    "tokenized_corpus = [doc.split(\" \") for doc in df[DOCUMENT]]\n",
    "bm25 = BM25Okapi(tokenized_corpus)\n",
    "\n",
    "print(\"Starting recall@k calculation for k=1 to 10...\")\n",
    "\n",
    "# Initialize counters for each k\n",
    "n_correct_at_k = {k: 0 for k in range(1, 11)}\n",
    "total_rows = len(df)\n",
    "\n",
    "# Initialize tqdm progress bar\n",
    "pbar = tqdm.tqdm(total=total_rows, desc='Recall@k', unit='row')\n",
    "\n",
    "for index, row in enumerate(df.itertuples()):\n",
    "    tokenized_query = getattr(row, QUERY).split(\" \")\n",
    "    doc_scores = bm25.get_scores(tokenized_query)\n",
    "    \n",
    "    for k in range(1, 11):\n",
    "        top_k_indexes = heapq.nlargest(k, range(len(doc_scores)), key=lambda i: doc_scores[i])\n",
    "        if index in top_k_indexes:\n",
    "            n_correct_at_k[k] += 1\n",
    "    \n",
    "    # Update progress bar\n",
    "    pbar.update(1)\n",
    "\n",
    "# Close the progress bar upon completion\n",
    "pbar.close()\n",
    "\n",
    "# Calculate and print recall at each k\n",
    "recall_at_k = {k: n_correct_at_k[k] / total_rows for k in range(1, 11)}\n",
    "for k in range(1, 11):\n",
    "    print(f\"Recall at k = {k}: {recall_at_k[k]:.4f}\")\n",
    "\n",
    "print(\"Calculation completed.\")\n"
   ]
  },
  {
   "cell_type": "code",
   "execution_count": 4,
   "metadata": {},
   "outputs": [
    {
     "name": "stdout",
     "output_type": "stream",
     "text": [
      "Starting recall@k calculation 6B...\n"
     ]
    },
    {
     "name": "stderr",
     "output_type": "stream",
     "text": [
      "Recall@k: 100%|██████████| 4108/4108 [06:18<00:00, 10.85row/s]"
     ]
    },
    {
     "name": "stdout",
     "output_type": "stream",
     "text": [
      "Recall at k = 1: 0.9954\n",
      "Recall at k = 2: 0.9959\n",
      "Recall at k = 3: 0.9959\n",
      "Recall at k = 4: 0.9961\n",
      "Recall at k = 5: 0.9961\n",
      "Recall at k = 6: 0.9961\n",
      "Recall at k = 7: 0.9961\n",
      "Recall at k = 8: 0.9961\n",
      "Recall at k = 9: 0.9961\n",
      "Recall at k = 10: 0.9963\n",
      "Calculation completed.\n"
     ]
    },
    {
     "name": "stderr",
     "output_type": "stream",
     "text": [
      "\n"
     ]
    }
   ],
   "source": [
    "df = get_evaluation_set_6()\n",
    "tokenized_corpus = [doc.split(\" \") for doc in df[DOCUMENT]]\n",
    "bm25 = BM25Okapi(tokenized_corpus)\n",
    "\n",
    "print(\"Starting recall@k calculation 6B...\")\n",
    "# Initialize counters for each k\n",
    "n_correct_at_k = {k: 0 for k in range(1, 11)}\n",
    "total_rows = len(df)\n",
    "\n",
    "# Initialize tqdm progress bar\n",
    "pbar = tqdm.tqdm(total=total_rows, desc='Recall@k', unit='row')\n",
    "\n",
    "for index, row in enumerate(df.itertuples()):\n",
    "    tokenized_query = getattr(row, QUERY).split(\" \")\n",
    "    doc_scores = bm25.get_scores(tokenized_query)\n",
    "    \n",
    "    for k in range(1, 11):\n",
    "        top_k_indexes = heapq.nlargest(k, range(len(doc_scores)), key=lambda i: doc_scores[i])\n",
    "        if index in top_k_indexes:\n",
    "            n_correct_at_k[k] += 1\n",
    "    \n",
    "    # Update progress bar\n",
    "    pbar.update(1)\n",
    "\n",
    "# Close the progress bar upon completion\n",
    "pbar.close()\n",
    "\n",
    "# Calculate and print recall at each k\n",
    "recall_at_k = {k: n_correct_at_k[k] / total_rows for k in range(1, 11)}\n",
    "for k in range(1, 11):\n",
    "    print(f\"Recall at k = {k}: {recall_at_k[k]:.4f}\")\n",
    "\n",
    "print(\"Calculation completed.\")"
   ]
  },
  {
   "cell_type": "code",
   "execution_count": 5,
   "metadata": {},
   "outputs": [
    {
     "name": "stdout",
     "output_type": "stream",
     "text": [
      "Starting recall@k calculation 175B...\n"
     ]
    },
    {
     "name": "stderr",
     "output_type": "stream",
     "text": [
      "Recall@k: 100%|██████████| 4108/4108 [05:05<00:00, 13.46row/s]"
     ]
    },
    {
     "name": "stdout",
     "output_type": "stream",
     "text": [
      "Recall at k = 1: 0.8225\n",
      "Recall at k = 2: 0.8678\n",
      "Recall at k = 3: 0.8841\n",
      "Recall at k = 4: 0.8965\n",
      "Recall at k = 5: 0.9043\n",
      "Recall at k = 6: 0.9102\n",
      "Recall at k = 7: 0.9153\n",
      "Recall at k = 8: 0.9214\n",
      "Recall at k = 9: 0.9245\n",
      "Recall at k = 10: 0.9267\n",
      "Calculation completed.\n"
     ]
    },
    {
     "name": "stderr",
     "output_type": "stream",
     "text": [
      "\n"
     ]
    }
   ],
   "source": [
    "df = get_evaluation_set_175()\n",
    "tokenized_corpus = [doc.split(\" \") for doc in df[DOCUMENT]]\n",
    "bm25 = BM25Okapi(tokenized_corpus)\n",
    "\n",
    "print(\"Starting recall@k calculation 175B...\")\n",
    "\n",
    "# Initialize counters for each k\n",
    "n_correct_at_k = {k: 0 for k in range(1, 11)}\n",
    "total_rows = len(df)\n",
    "\n",
    "# Initialize tqdm progress bar\n",
    "pbar = tqdm.tqdm(total=total_rows, desc='Recall@k', unit='row')\n",
    "\n",
    "for index, row in enumerate(df.itertuples()):\n",
    "    tokenized_query = getattr(row, QUERY).split(\" \")\n",
    "    doc_scores = bm25.get_scores(tokenized_query)\n",
    "    \n",
    "    for k in range(1, 11):\n",
    "        top_k_indexes = heapq.nlargest(k, range(len(doc_scores)), key=lambda i: doc_scores[i])\n",
    "        if index in top_k_indexes:\n",
    "            n_correct_at_k[k] += 1\n",
    "    \n",
    "    # Update progress bar\n",
    "    pbar.update(1)\n",
    "\n",
    "# Close the progress bar upon completion\n",
    "pbar.close()\n",
    "\n",
    "# Calculate and print recall at each k\n",
    "recall_at_k = {k: n_correct_at_k[k] / total_rows for k in range(1, 11)}\n",
    "for k in range(1, 11):\n",
    "    print(f\"Recall at k = {k}: {recall_at_k[k]:.4f}\")\n",
    "\n",
    "print(\"Calculation completed.\")"
   ]
  },
  {
   "cell_type": "code",
   "execution_count": 6,
   "metadata": {},
   "outputs": [
    {
     "name": "stderr",
     "output_type": "stream",
     "text": [
      "Retrieval vs. Ngram Score @10:  97%|█████████▋| 4000/4108 [04:42<00:07, 14.17row/s]\n"
     ]
    },
    {
     "data": {
      "image/png": "[encoded data removed]",
      "text/plain": [
       "<Figure size 640x480 with 1 Axes>"
      ]
     },
     "metadata": {},
     "output_type": "display_data"
    }
   ],
   "source": [
    "df = get_evaluation_set()\n",
    "tokenized_corpus = [doc.split(\" \") for doc in df[DOCUMENT]]\n",
    "bm25 = BM25Okapi(tokenized_corpus)\n",
    "\n",
    "# Simulated BM25 scores and two-gram overlap calculation\n",
    "bm25_scores = []\n",
    "two_gram_overlaps = []\n",
    "\n",
    "for k in range(10, 11): \n",
    "    \n",
    "    pbar = tqdm.tqdm(total=total_rows, desc=f'Retrieval vs. Ngram Score @{k}', unit='row')\n",
    "\n",
    "    for index, row in df.iterrows():\n",
    "        query, document = row[QUERY].split(\" \"), row[DOCUMENT]\n",
    "        # Simulate BM25 scoring\n",
    "        doc_scores = bm25.get_scores(query)  # Replace with actual BM25 scoring\n",
    "        top_k_indexes = heapq.nlargest(k, range(len(doc_scores)), key=lambda i: doc_scores[i])\n",
    "        \n",
    "        # Calculate two-gram overlap for top-k documents\n",
    "        for i in top_k_indexes:\n",
    "            overlap = two_gram_overlap(row[QUERY], df[DOCUMENT][i])\n",
    "            bm25_scores.append(doc_scores[i]) \n",
    "            two_gram_overlaps.append(overlap)\n",
    "            \n",
    "        # Update progress bar\n",
    "        pbar.update(1)\n",
    "    \n",
    "    # Close the progress bar upon completion\n",
    "    pbar.close()\n",
    "            \n",
    "    # Plotting\n",
    "    plt.scatter(bm25_scores, two_gram_overlaps)\n",
    "    plt.xlabel('BM25 Score')\n",
    "    plt.ylabel('Two-Gram Overlap')\n",
    "    plt.title('Two-Gram Overlap vs. BM25 Score')\n",
    "    plt.show()"
   ]
  },
  {
   "cell_type": "code",
   "execution_count": null,
   "metadata": {},
   "outputs": [],
   "source": []
  }
 ],
 "metadata": {
  "kernelspec": {
   "display_name": "base",
   "language": "python",
   "name": "python3"
  },
  "language_info": {
   "codemirror_mode": {
    "name": "ipython",
    "version": 3
   },
   "file_extension": ".py",
   "mimetype": "text/x-python",
   "name": "python",
   "nbconvert_exporter": "python",
   "pygments_lexer": "ipython3",
   "version": "3.12.2"
  }
 },
 "nbformat": 4,
 "nbformat_minor": 2
}
