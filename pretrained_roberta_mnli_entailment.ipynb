{
 "cells": [
  {
   "cell_type": "code",
   "execution_count": 1,
   "metadata": {},
   "outputs": [
    {
     "name": "stdout",
     "output_type": "stream",
     "text": [
      "{\n",
      "  \"label\": \"partially_supported\",\n",
      "  \"claim\": \"Arnold is currently the publisher and editorial director of Media Play News, one of five Hollywood trades and the only one dedicated to the home entertainment sector.\",\n",
      "  \"evidence\": [\n",
      "    \"Media Play News\",\n",
      "    \"Media Play News is the voice of the home entertainment industry.\",\n",
      "    \"We reach major studios, independent suppliers, technology companies such as Microsoft and Roku and a growing number of distributors of digital content.\",\n",
      "    \"Thomas K. Arnold, Publisher and Editorial Director, Media Play News:\",\n",
      "    \"For more than 12 years he was the Publisher and Editorial Director of Home Media Magazine, the home entertainment industry's weekly trade publication.\",\n",
      "    \"He joined Video Store Magazine, Home Media's predecessor, in 1991.\",\n",
      "    \"She spearheaded the publication's reviews section, as well as aggressive coverage of the home video sales market.\",\n",
      "    \"She also helped launch the magazine's Web site in 1996.\",\n",
      "    \"In her position as editor-in-chief since 2006, she has spearheaded the launch of such projects as the daily blast, transmitted via email each day to readers, and Agent DVD, a consumer publication aimed at genre enthusiasts who attend Comic-Con International in San Diego.\",\n",
      "    \"John Boezinger, Associate Publisher and Advertising Director, Media Play News:\",\n",
      "    \"Before joining Home Media Magazine in September 2007 as an Account Executive, Boezinger worked for Advanstar Communications, Home Media Magazine's former parent company, for 10 years.\",\n",
      "    \"He worked in sales management as well as in inside and outside sales for three different vertical industry groups: Automotive, Powersports and CRM.\",\n",
      "    \"Boezinger graduated from the University of Michigan in Ann Arbor and has an MBA from California State University at Long Beach.\",\n",
      "    \"As Executive Editor he oversees editorial production of our monthly print and digital editions and also has oversight of the market research department.\"\n",
      "  ],\n",
      "  \"meta\": {\n",
      "    \"id\": \"dev02986\",\n",
      "    \"claim_title\": \"Roger Hedgecock\",\n",
      "    \"claim_section\": \"Other endeavors.\",\n",
      "    \"chunk_idx\": [\n",
      "      2,\n",
      "      5,\n",
      "      10,\n",
      "      15,\n",
      "      17,\n",
      "      18,\n",
      "      26,\n",
      "      27,\n",
      "      28,\n",
      "      31,\n",
      "      33,\n",
      "      34,\n",
      "      35,\n",
      "      38\n",
      "    ],\n",
      "    \"oracle_idx\": [\n",
      "      5,\n",
      "      15\n",
      "    ]\n",
      "  }\n",
      "}\n"
     ]
    }
   ],
   "source": [
    "import json\n",
    "\n",
    "# Load the dataset\n",
    "dataset_path = 'data/dev.jsonl'\n",
    "data = []\n",
    "\n",
    "with open(dataset_path, 'r', encoding='utf-8') as f:\n",
    "    for line in f:\n",
    "        data.append(json.loads(line))\n",
    "\n",
    "# Display the structure of the first item\n",
    "print(json.dumps(data[0], indent=2))\n"
   ]
  },
  {
   "cell_type": "code",
   "execution_count": 2,
   "metadata": {},
   "outputs": [
    {
     "data": {
      "text/plain": [
       "1043"
      ]
     },
     "execution_count": 2,
     "metadata": {},
     "output_type": "execute_result"
    }
   ],
   "source": [
    "len(data)"
   ]
  },
  {
   "cell_type": "code",
   "execution_count": 3,
   "metadata": {},
   "outputs": [
    {
     "name": "stderr",
     "output_type": "stream",
     "text": [
      "/Users/jonathanhu/anaconda3/envs/Retrieval/lib/python3.12/site-packages/tqdm/auto.py:21: TqdmWarning: IProgress not found. Please update jupyter and ipywidgets. See https://ipywidgets.readthedocs.io/en/stable/user_install.html\n",
      "  from .autonotebook import tqdm as notebook_tqdm\n",
      "Some weights of the model checkpoint at roberta-large-mnli were not used when initializing RobertaForSequenceClassification: ['roberta.pooler.dense.bias', 'roberta.pooler.dense.weight']\n",
      "- This IS expected if you are initializing RobertaForSequenceClassification from the checkpoint of a model trained on another task or with another architecture (e.g. initializing a BertForSequenceClassification model from a BertForPreTraining model).\n",
      "- This IS NOT expected if you are initializing RobertaForSequenceClassification from the checkpoint of a model that you expect to be exactly identical (initializing a BertForSequenceClassification model from a BertForSequenceClassification model).\n",
      "/Users/jonathanhu/anaconda3/envs/Retrieval/lib/python3.12/site-packages/transformers/pipelines/text_classification.py:104: UserWarning: `return_all_scores` is now deprecated,  if want a similar functionality use `top_k=None` instead of `return_all_scores=True` or `top_k=1` instead of `return_all_scores=False`.\n",
      "  warnings.warn(\n"
     ]
    }
   ],
   "source": [
    "from transformers import AutoTokenizer, AutoModelForSequenceClassification, pipeline\n",
    "\n",
    "# Initialize tokenizer and model\n",
    "model_name = \"roberta-large-mnli\"\n",
    "tokenizer = AutoTokenizer.from_pretrained(model_name)\n",
    "model = AutoModelForSequenceClassification.from_pretrained(model_name)\n",
    "nli_pipeline = pipeline(\"text-classification\", model=model, tokenizer=tokenizer, return_all_scores=True)\n"
   ]
  },
  {
   "cell_type": "code",
   "execution_count": 19,
   "metadata": {},
   "outputs": [],
   "source": [
    "# Function to predict claim entailment using only oracle_idx evidence sentences\n",
    "def predict_claim_entailment_with_corrected_oracle(claim, evidence_sentences, meta):\n",
    "    # Retrieve chunk_idx and oracle_idx from meta information\n",
    "    chunk_indices = meta['chunk_idx']\n",
    "    oracle_indices = meta['oracle_idx']\n",
    "    \n",
    "    # Map oracle_idx to the actual positions in evidence_sentences using chunk_idx\n",
    "    actual_oracle_sentences = [evidence_sentences[chunk_indices.index(oracle_idx)] for oracle_idx in oracle_indices if oracle_idx in chunk_indices]\n",
    "    \n",
    "    # Concatenate the oracle evidence sentences\n",
    "    oracle_evidence_text = \" \".join(actual_oracle_sentences)\n",
    "    \n",
    "    # Predict the entailment using the NLI model\n",
    "    predictions = nli_pipeline(f\"{claim} [SEP] {oracle_evidence_text}\")\n",
    "\n",
    "    return predictions"
   ]
  },
  {
   "cell_type": "code",
   "execution_count": 20,
   "metadata": {},
   "outputs": [
    {
     "name": "stdout",
     "output_type": "stream",
     "text": [
      "[[{'label': 'CONTRADICTION', 'score': 0.020967280492186546}, {'label': 'NEUTRAL', 'score': 0.38942232728004456}, {'label': 'ENTAILMENT', 'score': 0.5896103978157043}]]\n"
     ]
    }
   ],
   "source": [
    "# Example \n",
    "test_claim = data[0]['claim']\n",
    "test_evidence = data[0]['evidence']\n",
    "meta_info = data[0]['meta']\n",
    "\n",
    "# Predict entailment using corrected oracle evidence\n",
    "corrected_prediction = predict_claim_entailment_with_corrected_oracle(test_claim, test_evidence, meta_info)\n",
    "print(corrected_prediction)"
   ]
  },
  {
   "cell_type": "code",
   "execution_count": 22,
   "metadata": {},
   "outputs": [
    {
     "name": "stderr",
     "output_type": "stream",
     "text": [
      "Processing items: 100%|██████████| 1043/1043 [02:31<00:00,  6.87it/s]\n"
     ]
    },
    {
     "data": {
      "image/png": "[encoded data removed]",
      "text/plain": [
       "<Figure size 1000x700 with 1 Axes>"
      ]
     },
     "metadata": {},
     "output_type": "display_data"
    }
   ],
   "source": [
    "import matplotlib.pyplot as plt\n",
    "from tqdm import tqdm\n",
    "\n",
    "# Initialize a dictionary to hold the count of each label\n",
    "label_counts = {\"CONTRADICTION\": 0, \"NEUTRAL\": 0, \"ENTAILMENT\": 0}\n",
    "\n",
    "num_false = 0 # number of times prediction is wrong\n",
    "# Define label mapping based on your dataset's specifics TODO: is this how we want to represent it\n",
    "label_mapping = {\n",
    "    \"not_supported\": \"CONTRADICTION\",\n",
    "    \"partially_supported\": \"NEUTRAL\",\n",
    "    \"supported\": \"ENTAILMENT\",\n",
    "}\n",
    "\n",
    "# Process each item in the dataset\n",
    "for item in tqdm(data, desc=\"Processing items\"):\n",
    "    if 'oracle_idx' not in item['meta']:\n",
    "        continue\n",
    "    corrected_prediction = predict_claim_entailment_with_corrected_oracle(item['claim'], item['evidence'], item['meta'])\n",
    "    corrected_prediction = corrected_prediction[0]\n",
    "    # Increment the count of the predicted label. We select the highest scoring label for simplicity.\n",
    "    highest_score_label = sorted(corrected_prediction, key=lambda x: x['score'], reverse=True)[0]['label']\n",
    "    if highest_score_label != label_mapping[item['label']]:\n",
    "        num_false += 1\n",
    "    label_counts[highest_score_label] += 1\n",
    "\n",
    "# Plotting the distribution\n",
    "labels = label_counts.keys()\n",
    "counts = label_counts.values()\n",
    "\n",
    "plt.figure(figsize=(10, 7))\n",
    "plt.bar(labels, counts, color=['red', 'blue', 'green'])\n",
    "plt.title('Distribution of Contradiction, Neutral, and Entailment')\n",
    "plt.xlabel('Label')\n",
    "plt.ylabel('Frequency')\n",
    "plt.show()"
   ]
  },
  {
   "cell_type": "code",
   "execution_count": 23,
   "metadata": {},
   "outputs": [
    {
     "name": "stdout",
     "output_type": "stream",
     "text": [
      "Accuracy is 0.6078619367209972\n"
     ]
    }
   ],
   "source": [
    "print(f\"Accuracy is {1 - num_false / len(data)}\")"
   ]
  }
 ],
 "metadata": {
  "kernelspec": {
   "display_name": "Retrieval",
   "language": "python",
   "name": "python3"
  },
  "language_info": {
   "codemirror_mode": {
    "name": "ipython",
    "version": 3
   },
   "file_extension": ".py",
   "mimetype": "text/x-python",
   "name": "python",
   "nbconvert_exporter": "python",
   "pygments_lexer": "ipython3",
   "version": "3.12.2"
  }
 },
 "nbformat": 4,
 "nbformat_minor": 2
}
