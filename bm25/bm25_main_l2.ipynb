{
 "cells": [
  {
   "cell_type": "code",
   "execution_count": 1,
   "metadata": {},
   "outputs": [],
   "source": [
    "%load_ext autoreload\n",
    "%autoreload 2"
   ]
  },
  {
   "cell_type": "code",
   "execution_count": 13,
   "metadata": {},
   "outputs": [
    {
     "name": "stdout",
     "output_type": "stream",
     "text": [
      "(4000, 5)\n"
     ]
    },
    {
     "data": {
      "text/html": [
       "<div>\n",
       "<style scoped>\n",
       "    .dataframe tbody tr th:only-of-type {\n",
       "        vertical-align: middle;\n",
       "    }\n",
       "\n",
       "    .dataframe tbody tr th {\n",
       "        vertical-align: top;\n",
       "    }\n",
       "\n",
       "    .dataframe thead th {\n",
       "        text-align: right;\n",
       "    }\n",
       "</style>\n",
       "<table border=\"1\" class=\"dataframe\">\n",
       "  <thead>\n",
       "    <tr style=\"text-align: right;\">\n",
       "      <th></th>\n",
       "      <th>depth_2_summary</th>\n",
       "      <th>book_text</th>\n",
       "      <th>model_size</th>\n",
       "      <th>book_num</th>\n",
       "      <th>document_index</th>\n",
       "    </tr>\n",
       "  </thead>\n",
       "  <tbody>\n",
       "    <tr>\n",
       "      <th>0</th>\n",
       "      <td>Uncle Pros, uncle of the sick woman and mainst...</td>\n",
       "      <td>THE BIRTH OF A WOMAN-CHILD\\n\\n\"Whose cradle's ...</td>\n",
       "      <td>6b</td>\n",
       "      <td>0</td>\n",
       "      <td>0</td>\n",
       "    </tr>\n",
       "    <tr>\n",
       "      <th>1</th>\n",
       "      <td>As they walked and talked, they came out on a ...</td>\n",
       "      <td>sunbonnet, and cowhide shoes with the apparel ...</td>\n",
       "      <td>6b</td>\n",
       "      <td>0</td>\n",
       "      <td>1</td>\n",
       "    </tr>\n",
       "    <tr>\n",
       "      <th>2</th>\n",
       "      <td>Johnnie straightens the bedclothes while her p...</td>\n",
       "      <td>was on night turn, and it had not been remade....</td>\n",
       "      <td>6b</td>\n",
       "      <td>0</td>\n",
       "      <td>2</td>\n",
       "    </tr>\n",
       "    <tr>\n",
       "      <th>3</th>\n",
       "      <td>Mandy turns to Johnnie, who is pulling back. T...</td>\n",
       "      <td>shine to you it'll be money in your pocket.\"\\n...</td>\n",
       "      <td>6b</td>\n",
       "      <td>0</td>\n",
       "      <td>3</td>\n",
       "    </tr>\n",
       "    <tr>\n",
       "      <th>4</th>\n",
       "      <td>Johnnie is invited to a meeting of the Uplift ...</td>\n",
       "      <td>It was all over in a moment. The loom-fixers h...</td>\n",
       "      <td>6b</td>\n",
       "      <td>0</td>\n",
       "      <td>4</td>\n",
       "    </tr>\n",
       "  </tbody>\n",
       "</table>\n",
       "</div>"
      ],
      "text/plain": [
       "                                     depth_2_summary  \\\n",
       "0  Uncle Pros, uncle of the sick woman and mainst...   \n",
       "1  As they walked and talked, they came out on a ...   \n",
       "2  Johnnie straightens the bedclothes while her p...   \n",
       "3  Mandy turns to Johnnie, who is pulling back. T...   \n",
       "4  Johnnie is invited to a meeting of the Uplift ...   \n",
       "\n",
       "                                           book_text model_size  book_num  \\\n",
       "0  THE BIRTH OF A WOMAN-CHILD\\n\\n\"Whose cradle's ...         6b         0   \n",
       "1  sunbonnet, and cowhide shoes with the apparel ...         6b         0   \n",
       "2  was on night turn, and it had not been remade....         6b         0   \n",
       "3  shine to you it'll be money in your pocket.\"\\n...         6b         0   \n",
       "4  It was all over in a moment. The loom-fixers h...         6b         0   \n",
       "\n",
       "   document_index  \n",
       "0               0  \n",
       "1               1  \n",
       "2               2  \n",
       "3               3  \n",
       "4               4  "
      ]
     },
     "execution_count": 13,
     "metadata": {},
     "output_type": "execute_result"
    }
   ],
   "source": [
    "import pandas as pd\n",
    "import numpy as np\n",
    "from rank_bm25 import BM25Okapi\n",
    "from model_helper import l2_get_evaluation_set_175, l2_get_evaluation_set_6, l2_QUERY, l2_DOCUMENT, two_gram_overlap, l2_get_evaluation_set\n",
    "import nltk\n",
    "import heapq\n",
    "import tqdm\n",
    "import matplotlib.pyplot as plt\n",
    "\n",
    "df = l2_get_evaluation_set()\n",
    "total_rows = df.shape[0]\n",
    "print(df.shape)\n",
    "df.head()"
   ]
  },
  {
   "cell_type": "code",
   "execution_count": 14,
   "metadata": {},
   "outputs": [
    {
     "data": {
      "text/html": [
       "<div>\n",
       "<style scoped>\n",
       "    .dataframe tbody tr th:only-of-type {\n",
       "        vertical-align: middle;\n",
       "    }\n",
       "\n",
       "    .dataframe tbody tr th {\n",
       "        vertical-align: top;\n",
       "    }\n",
       "\n",
       "    .dataframe thead th {\n",
       "        text-align: right;\n",
       "    }\n",
       "</style>\n",
       "<table border=\"1\" class=\"dataframe\">\n",
       "  <thead>\n",
       "    <tr style=\"text-align: right;\">\n",
       "      <th></th>\n",
       "      <th>depth_2_summary</th>\n",
       "      <th>book_text</th>\n",
       "      <th>model_size</th>\n",
       "      <th>book_num</th>\n",
       "      <th>document_index</th>\n",
       "    </tr>\n",
       "  </thead>\n",
       "  <tbody>\n",
       "  </tbody>\n",
       "</table>\n",
       "</div>"
      ],
      "text/plain": [
       "Empty DataFrame\n",
       "Columns: [depth_2_summary, book_text, model_size, book_num, document_index]\n",
       "Index: []"
      ]
     },
     "execution_count": 14,
     "metadata": {},
     "output_type": "execute_result"
    }
   ],
   "source": [
    "filtered_df = df[df.isnull().any(axis=1) | (df == '').any(axis=1)]\n",
    "filtered_df"
   ]
  },
  {
   "cell_type": "code",
   "execution_count": 5,
   "metadata": {},
   "outputs": [
    {
     "name": "stdout",
     "output_type": "stream",
     "text": [
      "Starting recall@k calculation for k=1 to 10...\n"
     ]
    },
    {
     "name": "stderr",
     "output_type": "stream",
     "text": [
      "Recall@k: 100%|██████████| 1067/1067 [00:24<00:00, 43.20row/s]"
     ]
    },
    {
     "name": "stdout",
     "output_type": "stream",
     "text": [
      "Recall at k = 1: 0.9588\n",
      "Recall at k = 2: 0.9672\n",
      "Recall at k = 3: 0.9719\n",
      "Recall at k = 4: 0.9728\n",
      "Recall at k = 5: 0.9738\n",
      "Recall at k = 6: 0.9747\n",
      "Recall at k = 7: 0.9756\n",
      "Recall at k = 8: 0.9766\n",
      "Recall at k = 9: 0.9766\n",
      "Recall at k = 10: 0.9784\n",
      "Calculation completed.\n"
     ]
    },
    {
     "name": "stderr",
     "output_type": "stream",
     "text": [
      "\n"
     ]
    }
   ],
   "source": [
    "tokenized_corpus = [doc.split(\" \") for doc in df[l2_DOCUMENT]]\n",
    "bm25 = BM25Okapi(tokenized_corpus)\n",
    "\n",
    "print(\"Starting recall@k calculation for k=1 to 10...\")\n",
    "\n",
    "# Initialize counters for each k\n",
    "n_correct_at_k = {k: 0 for k in range(1, 11)}\n",
    "total_rows = len(df)\n",
    "\n",
    "# Initialize tqdm progress bar\n",
    "pbar = tqdm.tqdm(total=total_rows, desc='Recall@k', unit='row')\n",
    "\n",
    "for index, row in enumerate(df.itertuples()):\n",
    "    tokenized_query = getattr(row, l2_QUERY).split(\" \")\n",
    "    doc_scores = bm25.get_scores(tokenized_query)\n",
    "    \n",
    "    for k in range(1, 11):\n",
    "        top_k_indexes = heapq.nlargest(k, range(len(doc_scores)), key=lambda i: doc_scores[i])\n",
    "        if index in top_k_indexes:\n",
    "            n_correct_at_k[k] += 1\n",
    "    \n",
    "    # Update progress bar\n",
    "    pbar.update(1)\n",
    "\n",
    "# Close the progress bar upon completion\n",
    "pbar.close()\n",
    "\n",
    "# Calculate and print recall at each k\n",
    "recall_at_k = {k: n_correct_at_k[k] / total_rows for k in range(1, 11)}\n",
    "for k in range(1, 11):\n",
    "    print(f\"Recall at k = {k}: {recall_at_k[k]:.4f}\")\n",
    "\n",
    "print(\"Calculation completed.\")\n"
   ]
  },
  {
   "cell_type": "code",
   "execution_count": 6,
   "metadata": {},
   "outputs": [
    {
     "name": "stdout",
     "output_type": "stream",
     "text": [
      "Starting recall@k calculation 6B...\n"
     ]
    },
    {
     "name": "stderr",
     "output_type": "stream",
     "text": [
      "Recall@k: 100%|██████████| 1067/1067 [00:24<00:00, 42.92row/s]"
     ]
    },
    {
     "name": "stdout",
     "output_type": "stream",
     "text": [
      "Recall at k = 1: 0.9588\n",
      "Recall at k = 2: 0.9672\n",
      "Recall at k = 3: 0.9719\n",
      "Recall at k = 4: 0.9728\n",
      "Recall at k = 5: 0.9738\n",
      "Recall at k = 6: 0.9747\n",
      "Recall at k = 7: 0.9756\n",
      "Recall at k = 8: 0.9766\n",
      "Recall at k = 9: 0.9766\n",
      "Recall at k = 10: 0.9784\n",
      "Calculation completed.\n"
     ]
    },
    {
     "name": "stderr",
     "output_type": "stream",
     "text": [
      "\n"
     ]
    }
   ],
   "source": [
    "df = l2_get_evaluation_set_6()\n",
    "tokenized_corpus = [doc.split(\" \") for doc in df[l2_DOCUMENT]]\n",
    "bm25 = BM25Okapi(tokenized_corpus)\n",
    "\n",
    "print(\"Starting recall@k calculation 6B...\")\n",
    "# Initialize counters for each k\n",
    "n_correct_at_k = {k: 0 for k in range(1, 11)}\n",
    "total_rows = len(df)\n",
    "\n",
    "# Initialize tqdm progress bar\n",
    "pbar = tqdm.tqdm(total=total_rows, desc='Recall@k', unit='row')\n",
    "\n",
    "for index, row in enumerate(df.itertuples()):\n",
    "    tokenized_query = getattr(row, l2_QUERY).split(\" \")\n",
    "    doc_scores = bm25.get_scores(tokenized_query)\n",
    "    \n",
    "    for k in range(1, 11):\n",
    "        top_k_indexes = heapq.nlargest(k, range(len(doc_scores)), key=lambda i: doc_scores[i])\n",
    "        if index in top_k_indexes:\n",
    "            n_correct_at_k[k] += 1\n",
    "    \n",
    "    # Update progress bar\n",
    "    pbar.update(1)\n",
    "\n",
    "# Close the progress bar upon completion\n",
    "pbar.close()\n",
    "\n",
    "# Calculate and print recall at each k\n",
    "recall_at_k = {k: n_correct_at_k[k] / total_rows for k in range(1, 11)}\n",
    "for k in range(1, 11):\n",
    "    print(f\"Recall at k = {k}: {recall_at_k[k]:.4f}\")\n",
    "\n",
    "print(\"Calculation completed.\")"
   ]
  },
  {
   "cell_type": "code",
   "execution_count": 7,
   "metadata": {},
   "outputs": [
    {
     "name": "stdout",
     "output_type": "stream",
     "text": [
      "Starting recall@k calculation 175B...\n"
     ]
    },
    {
     "name": "stderr",
     "output_type": "stream",
     "text": [
      "Recall@k: 100%|██████████| 1067/1067 [00:23<00:00, 44.76row/s]"
     ]
    },
    {
     "name": "stdout",
     "output_type": "stream",
     "text": [
      "Recall at k = 1: 0.5192\n",
      "Recall at k = 2: 0.5567\n",
      "Recall at k = 3: 0.5717\n",
      "Recall at k = 4: 0.5801\n",
      "Recall at k = 5: 0.5839\n",
      "Recall at k = 6: 0.5876\n",
      "Recall at k = 7: 0.5942\n",
      "Recall at k = 8: 0.5998\n",
      "Recall at k = 9: 0.6045\n",
      "Recall at k = 10: 0.6064\n",
      "Calculation completed.\n"
     ]
    },
    {
     "name": "stderr",
     "output_type": "stream",
     "text": [
      "\n"
     ]
    }
   ],
   "source": [
    "df = l2_get_evaluation_set_175()\n",
    "tokenized_corpus = [doc.split(\" \") for doc in df[l2_DOCUMENT]]\n",
    "bm25 = BM25Okapi(tokenized_corpus)\n",
    "\n",
    "print(\"Starting recall@k calculation 175B...\")\n",
    "\n",
    "# Initialize counters for each k\n",
    "n_correct_at_k = {k: 0 for k in range(1, 11)}\n",
    "total_rows = len(df)\n",
    "\n",
    "# Initialize tqdm progress bar\n",
    "pbar = tqdm.tqdm(total=total_rows, desc='Recall@k', unit='row')\n",
    "\n",
    "for index, row in enumerate(df.itertuples()):\n",
    "    tokenized_query = getattr(row, l2_QUERY).split(\" \")\n",
    "    doc_scores = bm25.get_scores(tokenized_query)\n",
    "    \n",
    "    for k in range(1, 11):\n",
    "        top_k_indexes = heapq.nlargest(k, range(len(doc_scores)), key=lambda i: doc_scores[i])\n",
    "        if index in top_k_indexes:\n",
    "            n_correct_at_k[k] += 1\n",
    "    \n",
    "    # Update progress bar\n",
    "    pbar.update(1)\n",
    "\n",
    "# Close the progress bar upon completion\n",
    "pbar.close()\n",
    "\n",
    "# Calculate and print recall at each k\n",
    "recall_at_k = {k: n_correct_at_k[k] / total_rows for k in range(1, 11)}\n",
    "for k in range(1, 11):\n",
    "    print(f\"Recall at k = {k}: {recall_at_k[k]:.4f}\")\n",
    "\n",
    "print(\"Calculation completed.\")"
   ]
  },
  {
   "cell_type": "code",
   "execution_count": 8,
   "metadata": {},
   "outputs": [
    {
     "name": "stderr",
     "output_type": "stream",
     "text": [
      "Retrieval vs. Ngram Score @10: 4000row [06:58,  9.57row/s]                         \n"
     ]
    },
    {
     "data": {
      "image/png": "[encoded data removed]",
      "text/plain": [
       "<Figure size 640x480 with 1 Axes>"
      ]
     },
     "metadata": {},
     "output_type": "display_data"
    }
   ],
   "source": [
    "df = l2_get_evaluation_set()\n",
    "tokenized_corpus = [doc.split(\" \") for doc in df[l2_DOCUMENT]]\n",
    "bm25 = BM25Okapi(tokenized_corpus)\n",
    "\n",
    "# Simulated BM25 scores and two-gram overlap calculation\n",
    "bm25_scores = []\n",
    "two_gram_overlaps = []\n",
    "\n",
    "for k in range(10, 11): \n",
    "    \n",
    "    pbar = tqdm.tqdm(total=total_rows, desc=f'Retrieval vs. Ngram Score @{k}', unit='row')\n",
    "\n",
    "    for index, row in df.iterrows():\n",
    "        query, document = row[l2_QUERY].split(\" \"), row[l2_DOCUMENT]\n",
    "        # Simulate BM25 scoring\n",
    "        doc_scores = bm25.get_scores(query)  # Replace with actual BM25 scoring\n",
    "        top_k_indexes = heapq.nlargest(k, range(len(doc_scores)), key=lambda i: doc_scores[i])\n",
    "        \n",
    "        # Calculate two-gram overlap for top-k documents\n",
    "        for i in top_k_indexes:\n",
    "            overlap = two_gram_overlap(row[l2_QUERY], df[l2_DOCUMENT][i])\n",
    "            bm25_scores.append(doc_scores[i]) \n",
    "            two_gram_overlaps.append(overlap)\n",
    "            \n",
    "        # Update progress bar\n",
    "        pbar.update(1)\n",
    "    \n",
    "    # Close the progress bar upon completion\n",
    "    pbar.close()\n",
    "            \n",
    "    # Plotting\n",
    "    plt.scatter(bm25_scores, two_gram_overlaps)\n",
    "    plt.xlabel('BM25 Score')\n",
    "    plt.ylabel('Two-Gram Overlap')\n",
    "    plt.title('Two-Gram Overlap vs. BM25 Score')\n",
    "    plt.show()"
   ]
  }
 ],
 "metadata": {
  "kernelspec": {
   "display_name": "base",
   "language": "python",
   "name": "python3"
  },
  "language_info": {
   "codemirror_mode": {
    "name": "ipython",
    "version": 3
   },
   "file_extension": ".py",
   "mimetype": "text/x-python",
   "name": "python",
   "nbconvert_exporter": "python",
   "pygments_lexer": "ipython3",
   "version": "3.12.2"
  }
 },
 "nbformat": 4,
 "nbformat_minor": 2
}
